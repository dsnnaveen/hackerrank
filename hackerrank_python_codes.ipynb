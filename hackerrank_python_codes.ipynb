{
  "nbformat": 4,
  "nbformat_minor": 0,
  "metadata": {
    "colab": {
      "provenance": [],
      "authorship_tag": "ABX9TyOT25d1hRNyQAL2ocLNKiGu",
      "include_colab_link": true
    },
    "kernelspec": {
      "name": "python3",
      "display_name": "Python 3"
    },
    "language_info": {
      "name": "python"
    }
  },
  "cells": [
    {
      "cell_type": "markdown",
      "metadata": {
        "id": "view-in-github",
        "colab_type": "text"
      },
      "source": [
        "<a href=\"https://colab.research.google.com/github/dsnnaveen/hackerrank/blob/main/hackerrank_python_codes.ipynb\" target=\"_parent\"><img src=\"https://colab.research.google.com/assets/colab-badge.svg\" alt=\"Open In Colab\"/></a>"
      ]
    },
    {
      "cell_type": "code",
      "execution_count": null,
      "metadata": {
        "colab": {
          "base_uri": "https://localhost:8080/"
        },
        "id": "n3naKDz_u89w",
        "outputId": "c57e4188-117f-4a02-f03d-6663e80b9abc"
      },
      "outputs": [
        {
          "output_type": "stream",
          "name": "stdout",
          "text": [
            "Hello, World!\n"
          ]
        }
      ],
      "source": [
        "# 1 https://www.hackerrank.com/challenges/py-hello-world/problem?isFullScreen=true\n",
        "# solution\n",
        "print(\"Hello, World!\")"
      ]
    },
    {
      "cell_type": "markdown",
      "source": [
        "Given an integer, n, perform the following conditional actions:\n",
        "* If n is odd, print Weird\n",
        "* If n is even and in the inclusive range of 2 to 5, print Not Weird\n",
        "* If n is even and in the inclusive range of 6 to 20, print Weird\n",
        "* If n is even and greater than 20, print Not Weird\n",
        "\n",
        " Input Format\n",
        "* A single line containing a positive integer, n."
      ],
      "metadata": {
        "id": "fZovKR2fvXTp"
      }
    },
    {
      "cell_type": "code",
      "source": [
        "#2 https://www.hackerrank.com/challenges/py-if-else/problem?isFullScreen=true\n",
        "# solution\n",
        "\n",
        "N = int(input())\n",
        "\n",
        "if N % 2 != 0:\n",
        "    print(\"Weird\")\n",
        "else:\n",
        "    if N >= 2 and N <= 5:\n",
        "        print(\"Not Weird\")\n",
        "    elif N >= 6 and N <= 20:\n",
        "        print(\"Weird\")\n",
        "    elif N > 20:\n",
        "        print(\"Not Weird\")"
      ],
      "metadata": {
        "id": "_yGy5NmPw9e-"
      },
      "execution_count": null,
      "outputs": []
    },
    {
      "cell_type": "markdown",
      "source": [
        "* The first line contains the sum of the two numbers.\n",
        "* The second line contains the difference of the two numbers (first - second).\n",
        "* The third line contains the product of the two numbers."
      ],
      "metadata": {
        "id": "ZUMC8Xk9xXZ8"
      }
    },
    {
      "cell_type": "code",
      "source": [
        "#3 https://www.hackerrank.com/challenges/python-arithmetic-operators/problem?isFullScreen=true\n",
        "# solution\n",
        "a = int(input())\n",
        "b = int(input())\n",
        "print(a+b)\n",
        "print(a-b)\n",
        "print(a*b)\n"
      ],
      "metadata": {
        "colab": {
          "base_uri": "https://localhost:8080/"
        },
        "id": "UgINnV7SyS7d",
        "outputId": "e2339750-150e-4b1d-bff2-736683ab519c"
      },
      "execution_count": null,
      "outputs": [
        {
          "output_type": "stream",
          "name": "stdout",
          "text": [
            "2\n",
            "3\n",
            "5\n",
            "-1\n",
            "6\n"
          ]
        }
      ]
    },
    {
      "cell_type": "markdown",
      "source": [
        "* The first line should contain the result of integer division,  a//b .\n",
        "*  The second line should contain the result of float division,  a/b ."
      ],
      "metadata": {
        "id": "eTuISRc1yiO7"
      }
    },
    {
      "cell_type": "code",
      "source": [
        "#4 https://www.hackerrank.com/challenges/python-division/problem?isFullScreen=true\n",
        "# solution\n",
        "\n",
        "a = int(input())\n",
        "b = int(input())\n",
        "print(a//b)\n",
        "print(a/b)\n"
      ],
      "metadata": {
        "colab": {
          "base_uri": "https://localhost:8080/"
        },
        "id": "zxiqIYAXy4OJ",
        "outputId": "4ff788af-1b5a-4ae1-d1dc-0ec83a7fb3bf"
      },
      "execution_count": null,
      "outputs": [
        {
          "output_type": "stream",
          "name": "stdout",
          "text": [
            "2\n",
            "3\n",
            "0\n",
            "0.6666666666666666\n"
          ]
        }
      ]
    },
    {
      "cell_type": "markdown",
      "source": [
        "The list of non-negative integers that are less than n is . Print the square of each number on a separate line.\n",
        "for 3 print\n",
        "0\n",
        "1\n",
        "4\n",
        "each number on new line"
      ],
      "metadata": {
        "id": "SP3-Ci0SzAbE"
      }
    },
    {
      "cell_type": "code",
      "source": [
        "#5 hackerrank.com/challenges/python-loops/problem?isFullScreen=true\n",
        "# solution\n",
        "\n",
        "n = int(input())\n",
        "for i in range(0, n):\n",
        "\n",
        "    print(i ** 2)"
      ],
      "metadata": {
        "id": "XYJGyn5J7Usa"
      },
      "execution_count": null,
      "outputs": []
    },
    {
      "cell_type": "markdown",
      "source": [
        "https://www.hackerrank.com/challenges/write-a-function/problem?isFullScreen=true&h_r=next-challenge&h_v=zen&h_r=next-challenge&h_v=zen&h_r=next-challenge&h_v=zen&h_r=next-challenge&h_v=zen&h_r=next-challenge&h_v=ze\n",
        "#solution\n",
        "https://github.com/anarayanan86/Hackerrank/blob/master/Python/Introduction/Write_a_function.py\n",
        "\n"
      ],
      "metadata": {
        "id": "r3I0cCqz-Bd8"
      }
    },
    {
      "cell_type": "code",
      "source": [
        "# # wrong answerr\n",
        "# def is_leap(year):\n",
        "#     leap = False\n",
        "\n",
        "#     # Write your logic here\n",
        "#     if year%4 == 0:\n",
        "#         leaf = True\n",
        "#     elif  year%100 == 0 and year%400 == 0:\n",
        "#         leap = True\n",
        "#     else:\n",
        "#         leap = False\n",
        "\n",
        "#     return leap\n",
        "\n",
        "# year = int(input())\n",
        "# print(is_leap(year))"
      ],
      "metadata": {
        "colab": {
          "base_uri": "https://localhost:8080/"
        },
        "id": "9_YHGePN-Hku",
        "outputId": "0dde7b02-8522-47a6-8b04-abdce54d3de0"
      },
      "execution_count": null,
      "outputs": [
        {
          "name": "stdout",
          "output_type": "stream",
          "text": [
            "1900\n"
          ]
        }
      ]
    },
    {
      "cell_type": "code",
      "source": [
        "#6 hackerrank.com/challenges/python-loops/problem?isFullScreen=true\n",
        "# solution\n",
        "def is_leap(year):\n",
        "    leap = False\n",
        "\n",
        "    # Write your logic here\n",
        "    if year % 400 == 0:\n",
        "        leap = True\n",
        "    elif year % 100 == 0:\n",
        "        leap = False\n",
        "    elif year % 4 == 0:\n",
        "        leap = True\n",
        "\n",
        "    return leap\n",
        "\n",
        "year = int(input())\n",
        "print is_leap(year)"
      ],
      "metadata": {
        "id": "7KlZVHCV_mr0"
      },
      "execution_count": null,
      "outputs": []
    },
    {
      "cell_type": "code",
      "source": [
        "#7 https://www.hackerrank.com/challenges/python-print/problem?isFullScreen=true\n",
        "#  for 3 print 123, for 5 print 12345\n",
        "# solution\n",
        "n = int(input())\n",
        "for i in range(1,n+1):\n",
        "  print(i,end = '')"
      ],
      "metadata": {
        "colab": {
          "base_uri": "https://localhost:8080/"
        },
        "id": "X_ct-jrEAFe1",
        "outputId": "52e04976-d7d4-4941-ae53-7fb0137945e8"
      },
      "execution_count": null,
      "outputs": [
        {
          "output_type": "stream",
          "name": "stdout",
          "text": [
            "5\n",
            "12345"
          ]
        }
      ]
    },
    {
      "cell_type": "code",
      "source": [
        "#8. https://www.hackerrank.com/challenges/compress-the-string/problem?isFullScreen=true&h_r=next-challenge&h_v=zen&h_r=next-challenge&h_v=zen&h_r=next-challenge&h_v=zen&h_r=next-challenge&h_v=zen&h_r=next-challenge&h_v=zen&h_r=next-challenge&h_v=zen&h_r=next-challenge&h_v=zen\n",
        "#solution\n",
        "https://github.com/ayusharma/Hackerrank/blob/master/itertools_compress.py"
      ],
      "metadata": {
        "id": "V6W1IfieCHVH"
      },
      "execution_count": null,
      "outputs": []
    },
    {
      "cell_type": "code",
      "source": [
        "#8 compress the string for above problem solution\n",
        "from itertools import *\n",
        "\n",
        "no = '1222311'\n",
        "m = list()\n",
        "\n",
        "l = [list(g) for k, g in groupby(no)]\n",
        "print(l)\n",
        "for i in l:\n",
        "    t = []\n",
        "    t.append(len(i))\n",
        "    t.append(int(i[0]))\n",
        "    t = tuple(t)\n",
        "    m.append(str(t))\n",
        "\n",
        "print(' '.join(m))"
      ],
      "metadata": {
        "colab": {
          "base_uri": "https://localhost:8080/"
        },
        "id": "DN4j1bjKAgo2",
        "outputId": "b3e0acdc-7e1d-4bed-f628-3fb5f10c8e4a"
      },
      "execution_count": null,
      "outputs": [
        {
          "output_type": "stream",
          "name": "stdout",
          "text": [
            "[['1'], ['2', '2', '2'], ['3'], ['1', '1']]\n",
            "(1, 1) (3, 2) (1, 3) (2, 1)\n"
          ]
        }
      ]
    },
    {
      "cell_type": "code",
      "source": [
        "# n = '1222311'\n",
        "# for k, g in groupby(n):\n",
        "#   print(g)"
      ],
      "metadata": {
        "colab": {
          "base_uri": "https://localhost:8080/"
        },
        "id": "wcIv2E7yDZ9_",
        "outputId": "d54fdaf1-f393-4cf8-a737-e870192ebaaf"
      },
      "execution_count": null,
      "outputs": [
        {
          "output_type": "stream",
          "name": "stdout",
          "text": [
            "<itertools._grouper object at 0x7f6ff4a96b90>\n",
            "<itertools._grouper object at 0x7f6ff4b40750>\n",
            "<itertools._grouper object at 0x7f6ff4a96d90>\n",
            "<itertools._grouper object at 0x7f6ff4a96110>\n"
          ]
        }
      ]
    },
    {
      "cell_type": "code",
      "source": [
        "https://www.hackerrank.com/challenges/itertools-product/problem?isFullScreen=true\n",
        "#solution\n",
        "https://github.com/anarayanan86/Hackerrank/blob/master/Python/Itertools/itertools.product().py"
      ],
      "metadata": {
        "id": "8PRtuOFmHrAz"
      },
      "execution_count": null,
      "outputs": []
    },
    {
      "cell_type": "code",
      "source": [
        "#9 itertools.product() solution for above block code questioin\n",
        "# solution\n",
        "from itertools import *\n",
        "A = input().split()\n",
        "A = list(map(int, A))\n",
        "print(A)\n",
        "B = input().split()\n",
        "print(B)\n",
        "B = list(map(int, B))\n",
        "\n",
        "for i in product(A, B):\n",
        "    print(i,end = ' ')"
      ],
      "metadata": {
        "colab": {
          "base_uri": "https://localhost:8080/"
        },
        "id": "_tVsWZaRDj77",
        "outputId": "bba6adf5-2874-48fe-8600-11f65ee299a6"
      },
      "execution_count": null,
      "outputs": [
        {
          "output_type": "stream",
          "name": "stdout",
          "text": [
            "1 2\n",
            "[1, 2]\n",
            "3 4\n",
            "['3', '4']\n",
            "(1, 3) (1, 4) (2, 3) (2, 4) "
          ]
        }
      ]
    },
    {
      "cell_type": "code",
      "source": [
        "https://www.hackerrank.com/challenges/itertools-permutations/problem?isFullScreen=true&h_r=next-challenge&h_v=zen\n",
        "#solution\n",
        "https://github.com/anarayanan86/Hackerrank/blob/master/Python/Itertools/itertools.permutations().py"
      ],
      "metadata": {
        "id": "7GN6jX-gJaC-"
      },
      "execution_count": null,
      "outputs": []
    },
    {
      "cell_type": "code",
      "source": [
        "#10 itertools.permutations() solution for above problem.\n",
        "# solution\n",
        "from itertools import permutations\n",
        "\n",
        "S = input().split(\",\")\n",
        "\n",
        "for i in sorted(permutations(S[0], int(S[1]))):\n",
        "    print(''.join(i))"
      ],
      "metadata": {
        "colab": {
          "base_uri": "https://localhost:8080/"
        },
        "id": "FTlKkQCAI3a3",
        "outputId": "ed7a4cc3-3c04-4110-ed3e-b51c9a71274c"
      },
      "execution_count": null,
      "outputs": [
        {
          "output_type": "stream",
          "name": "stdout",
          "text": [
            "dsn,2\n",
            "dn\n",
            "ds\n",
            "nd\n",
            "ns\n",
            "sd\n",
            "sn\n"
          ]
        }
      ]
    },
    {
      "cell_type": "code",
      "source": [
        "https://www.hackerrank.com/challenges/itertools-combinations/problem?isFullScreen=true&h_r=next-challenge&h_v=zen&h_r=next-challenge&h_v=zen\n",
        "#solution\n",
        "https://www.hackerrank.com/challenges/itertools-combinations/forum"
      ],
      "metadata": {
        "id": "_YC3nHUPJvDP"
      },
      "execution_count": null,
      "outputs": []
    },
    {
      "cell_type": "code",
      "source": [
        "#11 itertool.combinations() solution for above problem.\n",
        "# solution\n",
        "from itertools import combinations\n",
        "\n",
        "input_string, size = input().split()\n",
        "sorted_string = sorted(input_string)\n",
        "for i in range(1, int(size) + 1):\n",
        "    for item in combinations(sorted_string, i):\n",
        "        print(*item, sep=\"\")"
      ],
      "metadata": {
        "colab": {
          "base_uri": "https://localhost:8080/"
        },
        "id": "YHY95QKuKHob",
        "outputId": "7f7962af-cf21-47cf-f21d-3a3258fc2a7e"
      },
      "execution_count": null,
      "outputs": [
        {
          "output_type": "stream",
          "name": "stdout",
          "text": [
            "dsn 2\n",
            "d\n",
            "n\n",
            "s\n",
            "dn\n",
            "ds\n",
            "ns\n"
          ]
        }
      ]
    },
    {
      "cell_type": "code",
      "source": [
        "https://www.hackerrank.com/challenges/itertools-combinations-with-replacement/problem?isFullScreen=true&h_r=next-challenge&h_v=zen&h_r=next-challenge&h_v=zen&h_r=next-challenge&h_v=zen\n",
        "#solution\n",
        "https://github.com/anarayanan86/Hackerrank/blob/master/Python/Itertools/itertools.combinations_with_replacement().py"
      ],
      "metadata": {
        "id": "PbxzDQd4KS6s"
      },
      "execution_count": null,
      "outputs": []
    },
    {
      "cell_type": "code",
      "source": [
        "#12 itertools-combination-with-replacement solution for above problem.\n",
        "#  Enter your code here. Read input from STDIN. Print output to STDOUT\n",
        "# solution\n",
        "from itertools import combinations_with_replacement\n",
        "\n",
        "lis = input().split(' ')\n",
        "\n",
        "for i in combinations_with_replacement(sorted(lis[0]), int(lis[1])):\n",
        "    print (''.join(i))"
      ],
      "metadata": {
        "colab": {
          "base_uri": "https://localhost:8080/"
        },
        "id": "Xf09kg2GKwXY",
        "outputId": "7d26b955-1131-4b13-c3cc-963ff6bfa4f9"
      },
      "execution_count": null,
      "outputs": [
        {
          "output_type": "stream",
          "name": "stdout",
          "text": [
            "dsn 2\n",
            "dd\n",
            "dn\n",
            "ds\n",
            "nn\n",
            "ns\n",
            "ss\n"
          ]
        }
      ]
    },
    {
      "cell_type": "code",
      "source": [],
      "metadata": {
        "id": "cmsCJJ8L4UVb"
      },
      "execution_count": null,
      "outputs": []
    }
  ]
}